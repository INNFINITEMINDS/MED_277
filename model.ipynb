{
 "cells": [
  {
   "cell_type": "code",
   "execution_count": 1,
   "metadata": {},
   "outputs": [
    {
     "name": "stderr",
     "output_type": "stream",
     "text": [
      "Using TensorFlow backend.\n"
     ]
    }
   ],
   "source": [
    "from keras.models import Sequential\n",
    "from keras.layers import Dense, LSTM, Activation, Dropout, Embedding, Bidirectional\n",
    "from keras.optimizers import Adam\n",
    "from keras.callbacks import EarlyStopping\n",
    "from keras.preprocessing.sequence import pad_sequences\n",
    "from keras.preprocessing.text import Tokenizer\n",
    "\n",
    "from sklearn.model_selection import train_test_split\n",
    "from sklearn.metrics import recall_score, f1_score, precision_score, recall_score, hamming_loss, roc_auc_score\n",
    "from sklearn.preprocessing import MultiLabelBinarizer\n",
    "from sklearn.utils import class_weight\n",
    "from sklearn.model_selection import StratifiedKFold\n",
    "\n",
    "import numpy as np\n",
    "import pandas as pd\n",
    "\n",
    "# fix random seed for reproducibility\n",
    "np.random.seed(7)"
   ]
  },
  {
   "cell_type": "markdown",
   "metadata": {},
   "source": [
    "## Import filtered data"
   ]
  },
  {
   "cell_type": "code",
   "execution_count": 2,
   "metadata": {},
   "outputs": [
    {
     "data": {
      "text/html": [
       "<div>\n",
       "<style>\n",
       "    .dataframe thead tr:only-child th {\n",
       "        text-align: right;\n",
       "    }\n",
       "\n",
       "    .dataframe thead th {\n",
       "        text-align: left;\n",
       "    }\n",
       "\n",
       "    .dataframe tbody tr th {\n",
       "        vertical-align: top;\n",
       "    }\n",
       "</style>\n",
       "<table border=\"1\" class=\"dataframe\">\n",
       "  <thead>\n",
       "    <tr style=\"text-align: right;\">\n",
       "      <th></th>\n",
       "      <th>ROW_ID</th>\n",
       "      <th>SUBJECT_ID</th>\n",
       "      <th>HADM_ID</th>\n",
       "      <th>CHARTDATE</th>\n",
       "      <th>CHARTTIME</th>\n",
       "      <th>STORETIME</th>\n",
       "      <th>CATEGORY</th>\n",
       "      <th>DESCRIPTION</th>\n",
       "      <th>CGID</th>\n",
       "      <th>ISERROR</th>\n",
       "      <th>TEXT</th>\n",
       "      <th>ICD9_CODE</th>\n",
       "    </tr>\n",
       "  </thead>\n",
       "  <tbody>\n",
       "    <tr>\n",
       "      <th>0</th>\n",
       "      <td>1</td>\n",
       "      <td>23224</td>\n",
       "      <td>174680.0</td>\n",
       "      <td>2147-12-05</td>\n",
       "      <td>NaN</td>\n",
       "      <td>NaN</td>\n",
       "      <td>Discharge summary</td>\n",
       "      <td>Report</td>\n",
       "      <td>NaN</td>\n",
       "      <td>NaN</td>\n",
       "      <td>Admission Date:  [**2147-11-17**]             ...</td>\n",
       "      <td>[4280]</td>\n",
       "    </tr>\n",
       "    <tr>\n",
       "      <th>1</th>\n",
       "      <td>2</td>\n",
       "      <td>23224</td>\n",
       "      <td>117806.0</td>\n",
       "      <td>2154-05-03</td>\n",
       "      <td>NaN</td>\n",
       "      <td>NaN</td>\n",
       "      <td>Discharge summary</td>\n",
       "      <td>Report</td>\n",
       "      <td>NaN</td>\n",
       "      <td>NaN</td>\n",
       "      <td>Admission Date:  [**2154-4-30**]              ...</td>\n",
       "      <td>[0389, 486, 99592, 311]</td>\n",
       "    </tr>\n",
       "    <tr>\n",
       "      <th>2</th>\n",
       "      <td>3</td>\n",
       "      <td>19051</td>\n",
       "      <td>184534.0</td>\n",
       "      <td>2172-04-23</td>\n",
       "      <td>NaN</td>\n",
       "      <td>NaN</td>\n",
       "      <td>Discharge summary</td>\n",
       "      <td>Report</td>\n",
       "      <td>NaN</td>\n",
       "      <td>NaN</td>\n",
       "      <td>Admission Date:  [**2172-3-26**]              ...</td>\n",
       "      <td>[5070, 99592, 4019]</td>\n",
       "    </tr>\n",
       "    <tr>\n",
       "      <th>3</th>\n",
       "      <td>4</td>\n",
       "      <td>14605</td>\n",
       "      <td>195146.0</td>\n",
       "      <td>2198-11-27</td>\n",
       "      <td>NaN</td>\n",
       "      <td>NaN</td>\n",
       "      <td>Discharge summary</td>\n",
       "      <td>Report</td>\n",
       "      <td>NaN</td>\n",
       "      <td>NaN</td>\n",
       "      <td>Admission Date:  [**2198-11-23**]             ...</td>\n",
       "      <td>[5849, 2762, 2859, 4019]</td>\n",
       "    </tr>\n",
       "    <tr>\n",
       "      <th>4</th>\n",
       "      <td>5</td>\n",
       "      <td>9446</td>\n",
       "      <td>154895.0</td>\n",
       "      <td>2190-05-22</td>\n",
       "      <td>NaN</td>\n",
       "      <td>NaN</td>\n",
       "      <td>Discharge summary</td>\n",
       "      <td>Report</td>\n",
       "      <td>NaN</td>\n",
       "      <td>NaN</td>\n",
       "      <td>Admission Date:  [**2190-5-16**]     Discharge...</td>\n",
       "      <td>[41401, 4019, 25000]</td>\n",
       "    </tr>\n",
       "  </tbody>\n",
       "</table>\n",
       "</div>"
      ],
      "text/plain": [
       "   ROW_ID  SUBJECT_ID   HADM_ID   CHARTDATE  CHARTTIME  STORETIME  \\\n",
       "0       1       23224  174680.0  2147-12-05        NaN        NaN   \n",
       "1       2       23224  117806.0  2154-05-03        NaN        NaN   \n",
       "2       3       19051  184534.0  2172-04-23        NaN        NaN   \n",
       "3       4       14605  195146.0  2198-11-27        NaN        NaN   \n",
       "4       5        9446  154895.0  2190-05-22        NaN        NaN   \n",
       "\n",
       "            CATEGORY DESCRIPTION  CGID  ISERROR  \\\n",
       "0  Discharge summary      Report   NaN      NaN   \n",
       "1  Discharge summary      Report   NaN      NaN   \n",
       "2  Discharge summary      Report   NaN      NaN   \n",
       "3  Discharge summary      Report   NaN      NaN   \n",
       "4  Discharge summary      Report   NaN      NaN   \n",
       "\n",
       "                                                TEXT                 ICD9_CODE  \n",
       "0  Admission Date:  [**2147-11-17**]             ...                    [4280]  \n",
       "1  Admission Date:  [**2154-4-30**]              ...   [0389, 486, 99592, 311]  \n",
       "2  Admission Date:  [**2172-3-26**]              ...       [5070, 99592, 4019]  \n",
       "3  Admission Date:  [**2198-11-23**]             ...  [5849, 2762, 2859, 4019]  \n",
       "4  Admission Date:  [**2190-5-16**]     Discharge...      [41401, 4019, 25000]  "
      ]
     },
     "execution_count": 2,
     "metadata": {},
     "output_type": "execute_result"
    }
   ],
   "source": [
    "discharge_df = pd.read_pickle('sample_input')\n",
    "discharge_df.head()"
   ]
  },
  {
   "cell_type": "markdown",
   "metadata": {},
   "source": [
    "## Extract/preprocess data"
   ]
  },
  {
   "cell_type": "code",
   "execution_count": 3,
   "metadata": {
    "collapsed": true
   },
   "outputs": [],
   "source": [
    "MAX_SEQUENCE_LENGTH = 1000\n",
    "EMBEDDING_DIM = 100"
   ]
  },
  {
   "cell_type": "markdown",
   "metadata": {},
   "source": [
    "#### Tokenize free text"
   ]
  },
  {
   "cell_type": "code",
   "execution_count": 4,
   "metadata": {},
   "outputs": [
    {
     "name": "stdout",
     "output_type": "stream",
     "text": [
      "Found 241153 unique tokens.\n"
     ]
    }
   ],
   "source": [
    "X = discharge_df.TEXT.values\n",
    "\n",
    "tokenizer = Tokenizer()\n",
    "tokenizer.fit_on_texts(X)\n",
    "sequences = tokenizer.texts_to_sequences(X)\n",
    "data = pad_sequences(sequences, maxlen=MAX_SEQUENCE_LENGTH)\n",
    "\n",
    "word_index = tokenizer.word_index\n",
    "print('Found %s unique tokens.' % len(word_index))"
   ]
  },
  {
   "cell_type": "markdown",
   "metadata": {},
   "source": [
    "#### Transform the 25 text labels into a binary list "
   ]
  },
  {
   "cell_type": "code",
   "execution_count": 7,
   "metadata": {
    "collapsed": true
   },
   "outputs": [],
   "source": [
    "y = discharge_df['ICD9_CODE'].values\n",
    "\n",
    "possible_classes = set([item for sublist in y for item in sublist])\n",
    "lb = MultiLabelBinarizer(classes=list(possible_classes))\n",
    "labels = lb.fit_transform(y)"
   ]
  },
  {
   "cell_type": "code",
   "execution_count": 8,
   "metadata": {},
   "outputs": [
    {
     "name": "stdout",
     "output_type": "stream",
     "text": [
      "('Shape of data tensor:', (58410, 1000))\n",
      "('Shape of label tensor:', (58410, 25))\n"
     ]
    }
   ],
   "source": [
    "print('Shape of data tensor:', data.shape)\n",
    "print('Shape of label tensor:', np.array(labels).shape)"
   ]
  },
  {
   "cell_type": "markdown",
   "metadata": {},
   "source": [
    "#### Split data into 80% training, 10% validation, 10% test data"
   ]
  },
  {
   "cell_type": "code",
   "execution_count": 9,
   "metadata": {
    "collapsed": true
   },
   "outputs": [],
   "source": [
    "X_train, X_test, y_train, y_test = train_test_split(\n",
    "    data,labels,test_size=0.2)\n",
    "X_test, X_val, y_test, y_val = train_test_split(\n",
    "    X_test, y_test,test_size=0.5)"
   ]
  },
  {
   "cell_type": "markdown",
   "metadata": {},
   "source": [
    "#### Prepare embedding layer: parse pre-trained embeddings"
   ]
  },
  {
   "cell_type": "code",
   "execution_count": 19,
   "metadata": {},
   "outputs": [
    {
     "name": "stdout",
     "output_type": "stream",
     "text": [
      "Found 400000 word vectors.\n"
     ]
    }
   ],
   "source": [
    "embeddings_index = {}\n",
    "f = open('glove.6B.100d.txt')\n",
    "for line in f:\n",
    "    values = line.split()\n",
    "    word = values[0]\n",
    "    coefs = np.asarray(values[1:], dtype='float32')\n",
    "    embeddings_index[word] = coefs\n",
    "f.close()\n",
    "\n",
    "print('Found {} word vectors.'.format(len(embeddings_index)))"
   ]
  },
  {
   "cell_type": "code",
   "execution_count": 20,
   "metadata": {
    "collapsed": true
   },
   "outputs": [],
   "source": [
    "embedding_matrix = np.zeros((len(word_index) + 1, EMBEDDING_DIM))\n",
    "for word, i in word_index.items():\n",
    "    embedding_vector = embeddings_index.get(word)\n",
    "    if embedding_vector is not None:\n",
    "        # words not found in embedding index will be all-zeros.\n",
    "        embedding_matrix[i] = embedding_vector"
   ]
  },
  {
   "cell_type": "code",
   "execution_count": 21,
   "metadata": {
    "collapsed": true
   },
   "outputs": [],
   "source": [
    "embedding_layer = Embedding(len(word_index) + 1,\n",
    "                            EMBEDDING_DIM,\n",
    "                            weights=[embedding_matrix],\n",
    "                            input_length=MAX_SEQUENCE_LENGTH,\n",
    "                            trainable=False)"
   ]
  },
  {
   "cell_type": "markdown",
   "metadata": {},
   "source": [
    "## LSTM model"
   ]
  },
  {
   "cell_type": "code",
   "execution_count": 22,
   "metadata": {
    "collapsed": true
   },
   "outputs": [],
   "source": [
    "nb_epoch = 10\n",
    "batch_size=128\n",
    "\n",
    "stop_monitor = 'val_loss'\n",
    "patience = 5 # number of epochs with no improvement to early stop"
   ]
  },
  {
   "cell_type": "code",
   "execution_count": 23,
   "metadata": {},
   "outputs": [
    {
     "name": "stdout",
     "output_type": "stream",
     "text": [
      "_________________________________________________________________\n",
      "Layer (type)                 Output Shape              Param #   \n",
      "=================================================================\n",
      "embedding_2 (Embedding)      (None, 1000, 100)         24115400  \n",
      "_________________________________________________________________\n",
      "bidirectional_1 (Bidirection (None, 1000, 64)          34048     \n",
      "_________________________________________________________________\n",
      "dropout_1 (Dropout)          (None, 1000, 64)          0         \n",
      "_________________________________________________________________\n",
      "bidirectional_2 (Bidirection (None, 32)                10368     \n",
      "_________________________________________________________________\n",
      "dropout_2 (Dropout)          (None, 32)                0         \n",
      "_________________________________________________________________\n",
      "dense_1 (Dense)              (None, 25)                825       \n",
      "=================================================================\n",
      "Total params: 24,160,641\n",
      "Trainable params: 45,241\n",
      "Non-trainable params: 24,115,400\n",
      "_________________________________________________________________\n"
     ]
    }
   ],
   "source": [
    "model = Sequential()\n",
    "model.add(Embedding(len(word_index)+1, EMBEDDING_DIM, \n",
    "                    weights=[embedding_matrix], \n",
    "                    input_length=MAX_SEQUENCE_LENGTH, \n",
    "                    trainable=False))\n",
    "model.add(Bidirectional(LSTM(32, return_sequences=True)))\n",
    "model.add(Dropout(0.5))\n",
    "model.add(Bidirectional(LSTM(16)))\n",
    "model.add(Dropout(0.5))\n",
    "model.add(Dense(y_train.shape[1], activation='sigmoid'))\n",
    "model.summary()\n",
    "model.compile(loss='binary_crossentropy', optimizer=Adam(lr=0.005), metrics=['acc'])"
   ]
  },
  {
   "cell_type": "code",
   "execution_count": 25,
   "metadata": {
    "scrolled": false
   },
   "outputs": [
    {
     "name": "stderr",
     "output_type": "stream",
     "text": [
      "/Users/andreacastro/miniconda2/lib/python2.7/site-packages/keras/models.py:939: UserWarning: The `nb_epoch` argument in `fit` has been renamed `epochs`.\n",
      "  warnings.warn('The `nb_epoch` argument in `fit` '\n"
     ]
    },
    {
     "name": "stdout",
     "output_type": "stream",
     "text": [
      "Train on 46728 samples, validate on 5841 samples\n",
      "Epoch 1/10\n",
      "46728/46728 [==============================] - 757s 16ms/step - loss: 0.3687 - acc: 0.8675 - val_loss: 0.3445 - val_acc: 0.8738\n",
      "Epoch 2/10\n",
      "46728/46728 [==============================] - 780s 17ms/step - loss: 0.3427 - acc: 0.8731 - val_loss: 0.3239 - val_acc: 0.8766\n",
      "Epoch 3/10\n",
      "46728/46728 [==============================] - 743s 16ms/step - loss: 0.3231 - acc: 0.8776 - val_loss: 0.3053 - val_acc: 0.8827\n",
      "Epoch 4/10\n",
      "46728/46728 [==============================] - 728s 16ms/step - loss: 0.3137 - acc: 0.8809 - val_loss: 0.3042 - val_acc: 0.8812\n",
      "Epoch 5/10\n",
      "46728/46728 [==============================] - 744s 16ms/step - loss: 0.3089 - acc: 0.8826 - val_loss: 0.3017 - val_acc: 0.8820\n",
      "Epoch 6/10\n",
      "46728/46728 [==============================] - 1975s 42ms/step - loss: 0.3048 - acc: 0.8843 - val_loss: 0.2976 - val_acc: 0.8845\n",
      "Epoch 7/10\n",
      "46728/46728 [==============================] - 864s 18ms/step - loss: 0.3008 - acc: 0.8854 - val_loss: 0.2945 - val_acc: 0.8854\n",
      "Epoch 8/10\n",
      "46728/46728 [==============================] - 744s 16ms/step - loss: 0.2985 - acc: 0.8864 - val_loss: 0.2952 - val_acc: 0.8865\n",
      "Epoch 9/10\n",
      "46728/46728 [==============================] - 733s 16ms/step - loss: 0.2964 - acc: 0.8870 - val_loss: 0.2934 - val_acc: 0.8869\n",
      "Epoch 10/10\n",
      "46728/46728 [==============================] - 741s 16ms/step - loss: 0.2946 - acc: 0.8877 - val_loss: 0.2903 - val_acc: 0.8892\n"
     ]
    }
   ],
   "source": [
    "early_stop = EarlyStopping(monitor=stop_monitor, \n",
    "                           patience=patience, mode='auto')\n",
    "history = model.fit(X_train, y_train, validation_data=(X_val, y_val), \n",
    "                    batch_size=batch_size, nb_epoch=nb_epoch, \n",
    "                    callbacks=[early_stop], class_weight='auto')"
   ]
  },
  {
   "cell_type": "code",
   "execution_count": 28,
   "metadata": {},
   "outputs": [
    {
     "data": {
      "image/png": "[encoded data removed]",
      "text/plain": [
       "<matplotlib.figure.Figure at 0x138f21f50>"
      ]
     },
     "metadata": {},
     "output_type": "display_data"
    }
   ],
   "source": [
    "# plot progress\n",
    "import matplotlib.pyplot as plt\n",
    "%matplotlib inline\n",
    "\n",
    "f, (ax1, ax2) = plt.subplots(1, 2, sharey=False, sharex=True, figsize=(16, 6))\n",
    "ax1.plot(history.history['loss'], label='train')\n",
    "ax1.plot(history.history['val_loss'], label='val')\n",
    "ax1.set_title('Train/val loss per epoch')\n",
    "ax1.legend()\n",
    "\n",
    "ax2.plot(history.history['acc'], label='train')\n",
    "ax2.plot(history.history['val_acc'], label='val')\n",
    "ax2.set_title('Train/val accuracy per epoch')\n",
    "ax2.legend()\n",
    "plt.show()"
   ]
  },
  {
   "cell_type": "code",
   "execution_count": null,
   "metadata": {
    "collapsed": true
   },
   "outputs": [],
   "source": [
    "preds = model.predict(X_test)\n",
    "preds[preds>=0.5]=1\n",
    "preds[preds<0.5]=0\n",
    "\n",
    "micro_p = precision_score(y_test,preds, average='micro')\n",
    "macro_p = precision_score(y_test,preds,average='macro')\n",
    "micro_r = recall_score(y_test,preds,average='micro')\n",
    "macro_r = recall_score(y_test,preds,average='macro')\n",
    "macro_f1 = f1_score(y_test,preds,average='macro')\n",
    "micro_f1 = f1_score(y_test,preds,average='micro')\n",
    "micro_roc = roc_auc_score(y_test,preds,average='micro')\n",
    "macro_roc = roc_auc_score(y_test,preds,average='macro')\n",
    "hamming = hamming_loss(y_test,preds)\n",
    "\n",
    "results = [micro_p,macro_p,micro_r, macro_r, micro_f1, macro_f1, micro_roc, macro_roc, hamming]\n",
    "results_df = results_df.append(pd.Series(results, index=results_df.columns), ignore_index=True)\n",
    "results_df.head()"
   ]
  },
  {
   "cell_type": "code",
   "execution_count": null,
   "metadata": {
    "collapsed": true
   },
   "outputs": [],
   "source": []
  },
  {
   "cell_type": "code",
   "execution_count": null,
   "metadata": {
    "collapsed": true
   },
   "outputs": [],
   "source": []
  },
  {
   "cell_type": "code",
   "execution_count": null,
   "metadata": {
    "collapsed": true
   },
   "outputs": [],
   "source": []
  },
  {
   "cell_type": "code",
   "execution_count": null,
   "metadata": {
    "collapsed": true
   },
   "outputs": [],
   "source": []
  },
  {
   "cell_type": "markdown",
   "metadata": {
    "collapsed": true
   },
   "source": [
    "## Demo"
   ]
  },
  {
   "cell_type": "code",
   "execution_count": 38,
   "metadata": {},
   "outputs": [
    {
     "data": {
      "text/html": [
       "<div>\n",
       "<style>\n",
       "    .dataframe thead tr:only-child th {\n",
       "        text-align: right;\n",
       "    }\n",
       "\n",
       "    .dataframe thead th {\n",
       "        text-align: left;\n",
       "    }\n",
       "\n",
       "    .dataframe tbody tr th {\n",
       "        vertical-align: top;\n",
       "    }\n",
       "</style>\n",
       "<table border=\"1\" class=\"dataframe\">\n",
       "  <thead>\n",
       "    <tr style=\"text-align: right;\">\n",
       "      <th></th>\n",
       "      <th>ROW_ID</th>\n",
       "      <th>SUBJECT_ID</th>\n",
       "      <th>HADM_ID</th>\n",
       "      <th>CHARTDATE</th>\n",
       "      <th>CHARTTIME</th>\n",
       "      <th>STORETIME</th>\n",
       "      <th>CATEGORY</th>\n",
       "      <th>DESCRIPTION</th>\n",
       "      <th>CGID</th>\n",
       "      <th>ISERROR</th>\n",
       "      <th>TEXT</th>\n",
       "      <th>ICD9_CODE</th>\n",
       "    </tr>\n",
       "  </thead>\n",
       "  <tbody>\n",
       "    <tr>\n",
       "      <th>0</th>\n",
       "      <td>1</td>\n",
       "      <td>23224</td>\n",
       "      <td>174680.0</td>\n",
       "      <td>2147-12-05</td>\n",
       "      <td>NaN</td>\n",
       "      <td>NaN</td>\n",
       "      <td>Discharge summary</td>\n",
       "      <td>Report</td>\n",
       "      <td>NaN</td>\n",
       "      <td>NaN</td>\n",
       "      <td>Admission Date:  [**2147-11-17**]             ...</td>\n",
       "      <td>[4280]</td>\n",
       "    </tr>\n",
       "    <tr>\n",
       "      <th>1</th>\n",
       "      <td>2</td>\n",
       "      <td>23224</td>\n",
       "      <td>117806.0</td>\n",
       "      <td>2154-05-03</td>\n",
       "      <td>NaN</td>\n",
       "      <td>NaN</td>\n",
       "      <td>Discharge summary</td>\n",
       "      <td>Report</td>\n",
       "      <td>NaN</td>\n",
       "      <td>NaN</td>\n",
       "      <td>Admission Date:  [**2154-4-30**]              ...</td>\n",
       "      <td>[0389, 486, 99592, 311]</td>\n",
       "    </tr>\n",
       "    <tr>\n",
       "      <th>2</th>\n",
       "      <td>3</td>\n",
       "      <td>19051</td>\n",
       "      <td>184534.0</td>\n",
       "      <td>2172-04-23</td>\n",
       "      <td>NaN</td>\n",
       "      <td>NaN</td>\n",
       "      <td>Discharge summary</td>\n",
       "      <td>Report</td>\n",
       "      <td>NaN</td>\n",
       "      <td>NaN</td>\n",
       "      <td>Admission Date:  [**2172-3-26**]              ...</td>\n",
       "      <td>[5070, 99592, 4019]</td>\n",
       "    </tr>\n",
       "    <tr>\n",
       "      <th>3</th>\n",
       "      <td>4</td>\n",
       "      <td>14605</td>\n",
       "      <td>195146.0</td>\n",
       "      <td>2198-11-27</td>\n",
       "      <td>NaN</td>\n",
       "      <td>NaN</td>\n",
       "      <td>Discharge summary</td>\n",
       "      <td>Report</td>\n",
       "      <td>NaN</td>\n",
       "      <td>NaN</td>\n",
       "      <td>Admission Date:  [**2198-11-23**]             ...</td>\n",
       "      <td>[5849, 2762, 2859, 4019]</td>\n",
       "    </tr>\n",
       "    <tr>\n",
       "      <th>4</th>\n",
       "      <td>5</td>\n",
       "      <td>9446</td>\n",
       "      <td>154895.0</td>\n",
       "      <td>2190-05-22</td>\n",
       "      <td>NaN</td>\n",
       "      <td>NaN</td>\n",
       "      <td>Discharge summary</td>\n",
       "      <td>Report</td>\n",
       "      <td>NaN</td>\n",
       "      <td>NaN</td>\n",
       "      <td>Admission Date:  [**2190-5-16**]     Discharge...</td>\n",
       "      <td>[41401, 4019, 25000]</td>\n",
       "    </tr>\n",
       "  </tbody>\n",
       "</table>\n",
       "</div>"
      ],
      "text/plain": [
       "   ROW_ID  SUBJECT_ID   HADM_ID   CHARTDATE  CHARTTIME  STORETIME  \\\n",
       "0       1       23224  174680.0  2147-12-05        NaN        NaN   \n",
       "1       2       23224  117806.0  2154-05-03        NaN        NaN   \n",
       "2       3       19051  184534.0  2172-04-23        NaN        NaN   \n",
       "3       4       14605  195146.0  2198-11-27        NaN        NaN   \n",
       "4       5        9446  154895.0  2190-05-22        NaN        NaN   \n",
       "\n",
       "            CATEGORY DESCRIPTION  CGID  ISERROR  \\\n",
       "0  Discharge summary      Report   NaN      NaN   \n",
       "1  Discharge summary      Report   NaN      NaN   \n",
       "2  Discharge summary      Report   NaN      NaN   \n",
       "3  Discharge summary      Report   NaN      NaN   \n",
       "4  Discharge summary      Report   NaN      NaN   \n",
       "\n",
       "                                                TEXT                 ICD9_CODE  \n",
       "0  Admission Date:  [**2147-11-17**]             ...                    [4280]  \n",
       "1  Admission Date:  [**2154-4-30**]              ...   [0389, 486, 99592, 311]  \n",
       "2  Admission Date:  [**2172-3-26**]              ...       [5070, 99592, 4019]  \n",
       "3  Admission Date:  [**2198-11-23**]             ...  [5849, 2762, 2859, 4019]  \n",
       "4  Admission Date:  [**2190-5-16**]     Discharge...      [41401, 4019, 25000]  "
      ]
     },
     "execution_count": 38,
     "metadata": {},
     "output_type": "execute_result"
    }
   ],
   "source": [
    "discharge_df.head(5)"
   ]
  },
  {
   "cell_type": "markdown",
   "metadata": {},
   "source": [
    "#### Preprocessing"
   ]
  },
  {
   "cell_type": "code",
   "execution_count": 39,
   "metadata": {},
   "outputs": [
    {
     "data": {
      "text/plain": [
       "array([   352,   1337,     11,    569,   2973,   3596,   5186,     31,\n",
       "          145,   1517,    174,     65,   1798,   3139,    368,    180,\n",
       "          285,      5,   3588,      3,     52,   7839,   1597,     10,\n",
       "          611,   4533,    885,    206,   5700,      2,     14,   2811,\n",
       "          764,    750,     14,   5723,  11720,      5,    511,      3,\n",
       "         1304,   4995,  22315,   2421,   1901,   3181,   9549,    926,\n",
       "         1111,   8189,  15510,    153,    238,   1882,      2,    416,\n",
       "          207,    238,    160,   1770,    750,    163,   3815,   7764,\n",
       "         2517,   1702,   2229,   4426,    329,    380,     20,      5,\n",
       "           14,   1946,   3106,     50,     94,      4,    450,      3,\n",
       "            1,    294,      2,    163,    873,    469,      9,   1681,\n",
       "          504,      3,    554,   2927,    711,    305,     33,    410,\n",
       "          191,   1488,   2757,      3,   4696,     45,      3,   2538,\n",
       "          160,     33,    410,      3,   1304,   4533,   2364,      2,\n",
       "         1828,      2,      3,   1304,  11720,    163,    939,   5700,\n",
       "          885,   2696,     29,     10,   1686,     34,      3,    105,\n",
       "           78,    456,    249,      7,    525,    214,    526,   3204,\n",
       "         2105,      3,   5080,    194,    108,   3150,   2379,    501,\n",
       "          353,    594,     10,     54,    207,    470,      2,    660,\n",
       "           64,     20,     19,   3549,  13442,   1070,   1241,    207,\n",
       "          106,    775,    673,    168,    205,     64,     30,    547,\n",
       "           55,   2787,    673,    124,    207,   3977,   1842,    259,\n",
       "          696,      2,     20,    112,     10,   2612,   5672,      2,\n",
       "         2050,     12,   5485,   2579,   3560,    283,   3662,    121,\n",
       "          105,     78,      7,    207,     33,    410,    211,   5471,\n",
       "           11,   1533,   3588,    277,      3,    207,   1379,     11,\n",
       "         1713,      4,    324,    154,   4406,     14,    639,    288,\n",
       "          454,     24,    186,    353,     10,     54,     77,    320,\n",
       "            7,   1078,   3088,     10,   1424,   2050,   2612,   5672,\n",
       "          516,   1930,     22,   6702,     56,    715,      6,     77,\n",
       "           78,      3,    175,      9,     10,   5696,     20,     69,\n",
       "          202,      4,    516,      4,    218,    106,    526,   1481,\n",
       "           33,    410,   1772,     10,   6137,     10,   1760,    762,\n",
       "         1882,    741,    189,    563,   2904,      4,   2587,    106,\n",
       "           65,      9,    416,   1135,    106,     14,    109,    372,\n",
       "           89,    523,    997,    352,  24550,   3648,     19,    738,\n",
       "          580,    531,   1998,     14,    480,     11,    741,   2465,\n",
       "          372,     89,  16007,    582,     10,    879,     96,    918,\n",
       "          136,    991,    118,    279,     52,    797,   3752,     11,\n",
       "          330,    194,     20,   1251,    200,   2635,    521,   1304,\n",
       "         2402,      3,    229,   1167,     11,   2185,    665,     24,\n",
       "          186,    613,   1074,    879,     12,   2927,    372,     89,\n",
       "         1588,    966,      4,    902,   3909,    488,   2659,     77,\n",
       "           10,    879,    567,   7959,     55,   2659,    879,    537,\n",
       "          197,     53,     54,      2,    168,   2757,     55,      3,\n",
       "         2553,    356,    104,   2927,    711,    305,   4426,     69,\n",
       "          138,    102,    372,     89,    498,    550,   1740,   6141,\n",
       "          387,   1988,   1190,   2311,      7,   3104,     29,    119,\n",
       "          344,    409,    930,   1555,    187,      3,    207,    238,\n",
       "         2566,   7346,     31,   1190,    247,    105,     78,     33,\n",
       "          410,      2,    521,   2059,  10557,      2,   3911,    224,\n",
       "         1633,   5215,    123,      9,   2442,   1451,    981,      2,\n",
       "         1208,   2318,     10,      6,     91,    207,    154,    495,\n",
       "          884,   1975,   2234,     14,  13538,   1578,    124,     45,\n",
       "         1488,    630,   1498,     45,  28213,   3636,     67,    268,\n",
       "          421,     25,    265,  17799,    128,    125,      6, 213998,\n",
       "           76,     10,     54,    341,      9,     16,    892,   7573,\n",
       "           75,     16,    369,   5786,    257,     16,    985,   3346,\n",
       "           35,     16,     37,   4603,     70,     16,     37,   4596,\n",
       "           35,     16,     37,   8848,     35,     16,   1802,     37,\n",
       "         9401,    381,     16,     37, 213999,   2003,   1905,    224,\n",
       "           32,     76,      6,   1034,     35,     16,     18,     38,\n",
       "           39,      6,     18,     26,     37,     37,      9,   4531,\n",
       "          895,     35,     16,     18,     38,     39,      6,     18,\n",
       "           26,     37,     37,     13,   1760,    762,    381,    964,\n",
       "           16,     18,     38,     39,      6,     18,     26,     37,\n",
       "           37,     17,    341,      9,     16,     18,     38,     39,\n",
       "            6,     18,     26,    135,      8,     34,    554,     55,\n",
       "         2553,    356,    104,     62,    198,    711,   2028,     15,\n",
       "         1424,    895,    257,     16,     18,     38,     39,      6,\n",
       "           18,     26,    985,     17,     84,      8,     34,     22,\n",
       "         4603,     70,     16,    110,    217,    130,    171,     81,\n",
       "           38,     39,      6,    110,    217,    130,    171,     81,\n",
       "           26,    135,      8,     34,     29,   8848,   1802,     35,\n",
       "           16,    901,   1434,   2089,   6428,   5376,   2080,     38,\n",
       "           39,      6,    901,   1434,   2089,   6428,   5376,   2080,\n",
       "           26,    135,      8,     34,     28,    649,    258,     90,\n",
       "           16,    110,     38,     39,      6,    110,     26,    190,\n",
       "            9,     84,      8,     34,    113,    257,    110,     49,\n",
       "          111,      9,     36,    927,     28,     22,     16,     18,\n",
       "           38,     39,      6,     18,     26,    190,      9,     84,\n",
       "            8,     34,     33,    108,    113,    257,     18,     49,\n",
       "          111,     27,     35,    283,   3662,   5127,     16,    110,\n",
       "           38,     39,      6,    110,     26,    369,    232,   1479,\n",
       "           13,     84,      8,     34,      7,   1479,    113,    365,\n",
       "          110,     49,    111,      9,     47,    753,    821,     16,\n",
       "           18,     38,     39,      6,     18,     26,   6481,    114,\n",
       "          811,     83,     12,     13,    119,    113,      9,     18,\n",
       "           49,    111,     27,     43,   2050,     35,     16,     18,\n",
       "           38,    116,      9,     18,     26,    508,    114,     22,\n",
       "           83,    113,   3055,     18,     49,    111,      9,     92,\n",
       "         2929,     70,     16,     18,    592,    130,   2080,     38,\n",
       "           39,      6,     18,    592,    130,   2080,     26,    135,\n",
       "            8,     34,    113,     70,     18,    592,    130,   2080,\n",
       "           49,    111,      9,     87,    410,    999,    600,     99,\n",
       "         1304,   2696,     29,   1460,    163,    939,   1111,    885,\n",
       "           32,    314,     98,      7,    120,    395,     60,   2220,\n",
       "         3927,     32,    233,   1361,   2417,   2925,   1555,     65,\n",
       "          145,    160,    174,      7,   1798,   3139,     31,   3596,\n",
       "         5186,    349,    285,    218,    207,    238,    918,    136,\n",
       "          991,    876,   1413,    318,     32,    192,    337,     32,\n",
       "          146,    293,     62,     76,     33,    733,    554,     55,\n",
       "          293,     62,    341,    356,    104,     62,    315,      3,\n",
       "         1304,      1,    227,   5987,     65,     62,    319,   2553,\n",
       "            1,    341,      1,    282,     34,    359,     72,    696,\n",
       "           62,   7573,     12,     24,    186,   3431,     57,     72,\n",
       "          138,    112,     10,   2050,      2,   2929,    359,     72,\n",
       "          100,     57,    753,     12,     62,    876,   1413,    318,\n",
       "           99,    293,    114,    251,     34,     12,      1,    711,\n",
       "           13,    119,    359,     72,     96,    112,     57,     10,\n",
       "          283,   3662,      3,   3707,     62,    989,     65,     62,\n",
       "          207,    238,     57,     71,     96,   1717,    927,      2,\n",
       "         1057,    725,   7264,    304,    146,     99,    237,     97,\n",
       "           67,    813,    147,     42,     25,    147,   7518,      3,\n",
       "          822,      8,    105,     78,    315,      7,    773,    711,\n",
       "          305,     99,   1032,      3,      1,    160,   4875,     10,\n",
       "           80,      9,   3504,   1481,      6, 214000,     10,   2028,\n",
       "            6,     70,     23,   5172,      3,   1304,    227,     11,\n",
       "          319,   5987,     99,     96,   1032,      2,   1304,     24,\n",
       "         1769,     64,     34,    571,   1006,    716,     42,     25,\n",
       "          303,  20624,    162,     86,    512,    128,    125,      6,\n",
       "        17069,     56,     94,   1180,      9,     22,     47,    159,\n",
       "          571,     67,    542,     25,    607,  14133,     42,     25,\n",
       "          147,  16252,    162,     86,    512,    128,    125,      6,\n",
       "         8022,     56,     94,   1180,      9,     88,      9,     70], dtype=int32)"
      ]
     },
     "execution_count": 39,
     "metadata": {},
     "output_type": "execute_result"
    }
   ],
   "source": [
    "X = X_test[:5]\n",
    "X[0]"
   ]
  },
  {
   "cell_type": "code",
   "execution_count": 40,
   "metadata": {},
   "outputs": [
    {
     "data": {
      "text/plain": [
       "array([0, 0, 0, 0, 0, 1, 0, 0, 1, 0, 0, 0, 0, 0, 0, 0, 0, 1, 0, 0, 0, 0, 0,\n",
       "       1, 0])"
      ]
     },
     "execution_count": 40,
     "metadata": {},
     "output_type": "execute_result"
    }
   ],
   "source": [
    "y = y_test[:5]\n",
    "y[0]"
   ]
  },
  {
   "cell_type": "code",
   "execution_count": 42,
   "metadata": {},
   "outputs": [
    {
     "name": "stdout",
     "output_type": "stream",
     "text": [
      "('Predictions:', [(u'4280',), (u'4280',), (), (), (u'41401', u'4280')])\n"
     ]
    },
    {
     "data": {
      "text/plain": [
       "[(u'40390', u'5849', u'5990', u'5859'),\n",
       " (u'41401', u'4280'),\n",
       " (u'311', u'53081', u'2449', u'0389', u'V5861'),\n",
       " (u'V5861', u'42731'),\n",
       " (u'41401',\n",
       "  u'40390',\n",
       "  u'4280',\n",
       "  u'2859',\n",
       "  u'2720',\n",
       "  u'2449',\n",
       "  u'5990',\n",
       "  u'42731',\n",
       "  u'5859')]"
      ]
     },
     "execution_count": 42,
     "metadata": {},
     "output_type": "execute_result"
    }
   ],
   "source": [
    "predictions = model.predict(X)\n",
    "predictions[predictions>=0.5] = 1\n",
    "predictions[predictions<0.5] = 0\n",
    "print('Predictions:',lb.inverse_transform(predictions))\n",
    "lb.inverse_transform(y)"
   ]
  },
  {
   "cell_type": "code",
   "execution_count": 43,
   "metadata": {},
   "outputs": [
    {
     "data": {
      "text/html": [
       "<div>\n",
       "<style>\n",
       "    .dataframe thead tr:only-child th {\n",
       "        text-align: right;\n",
       "    }\n",
       "\n",
       "    .dataframe thead th {\n",
       "        text-align: left;\n",
       "    }\n",
       "\n",
       "    .dataframe tbody tr th {\n",
       "        vertical-align: top;\n",
       "    }\n",
       "</style>\n",
       "<table border=\"1\" class=\"dataframe\">\n",
       "  <thead>\n",
       "    <tr style=\"text-align: right;\">\n",
       "      <th></th>\n",
       "      <th>micro_precision</th>\n",
       "      <th>micro_recall</th>\n",
       "      <th>micro_F1</th>\n",
       "      <th>hamming_loss</th>\n",
       "    </tr>\n",
       "  </thead>\n",
       "  <tbody>\n",
       "    <tr>\n",
       "      <th>0</th>\n",
       "      <td>0.75</td>\n",
       "      <td>0.136364</td>\n",
       "      <td>0.230769</td>\n",
       "      <td>0.16</td>\n",
       "    </tr>\n",
       "  </tbody>\n",
       "</table>\n",
       "</div>"
      ],
      "text/plain": [
       "   micro_precision  micro_recall  micro_F1  hamming_loss\n",
       "0             0.75      0.136364  0.230769          0.16"
      ]
     },
     "execution_count": 43,
     "metadata": {},
     "output_type": "execute_result"
    }
   ],
   "source": [
    "micro_p = precision_score(y,predictions, average='micro')\n",
    "micro_r = recall_score(y,predictions,average='micro')\n",
    "micro_f1 = f1_score(y,predictions,average='micro')\n",
    "micro_roc = roc_auc_score(y,predictions,average='micro')\n",
    "hamming = hamming_loss(y,predictions)\n",
    "\n",
    "d = pd.DataFrame([[micro_p,micro_r, micro_f1, hamming]])\n",
    "d.columns = ['micro_precision', 'micro_recall', 'micro_F1', 'hamming_loss']\n",
    "d.head(5)"
   ]
  },
  {
   "cell_type": "code",
   "execution_count": null,
   "metadata": {
    "collapsed": true
   },
   "outputs": [],
   "source": []
  }
 ],
 "metadata": {
  "kernelspec": {
   "display_name": "Python 2",
   "language": "python",
   "name": "python2"
  },
  "language_info": {
   "codemirror_mode": {
    "name": "ipython",
    "version": 2
   },
   "file_extension": ".py",
   "mimetype": "text/x-python",
   "name": "python",
   "nbconvert_exporter": "python",
   "pygments_lexer": "ipython2",
   "version": "2.7.13"
  }
 },
 "nbformat": 4,
 "nbformat_minor": 2
}
